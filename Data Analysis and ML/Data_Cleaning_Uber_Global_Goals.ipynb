{
 "cells": [
  {
   "cell_type": "code",
   "execution_count": null,
   "metadata": {
    "id": "gF9B9YXR64QX"
   },
   "outputs": [],
   "source": [
    "import pandas as pd"
   ]
  },
  {
   "cell_type": "code",
   "execution_count": null,
   "metadata": {
    "id": "0kSM9VtF6_HN"
   },
   "outputs": [],
   "source": [
    "df=pd.read_csv('unemployment.csv')"
   ]
  },
  {
   "cell_type": "code",
   "execution_count": null,
   "metadata": {
    "colab": {
     "base_uri": "https://localhost:8080/",
     "height": 615
    },
    "id": "HaPkK_b5-v5M",
    "outputId": "2af5b38c-e97b-427b-a81b-79f41ec73d93"
   },
   "outputs": [],
   "source": [
    "df"
   ]
  },
  {
   "cell_type": "code",
   "execution_count": null,
   "metadata": {
    "colab": {
     "base_uri": "https://localhost:8080/"
    },
    "id": "RKczmy8RHm5u",
    "outputId": "8eb11739-2759-4d2e-af9d-a97e2fa993e3"
   },
   "outputs": [
    {
     "data": {
      "text/plain": [
       "Registered unemployed    8880\n",
       "Unemployment demand      5328\n",
       "Name: Demand_occupation, dtype: int64"
      ]
     },
     "execution_count": 111,
     "metadata": {},
     "output_type": "execute_result"
    }
   ],
   "source": [
    "df['Demand_occupation'].value_counts()"
   ]
  },
  {
   "cell_type": "code",
   "execution_count": null,
   "metadata": {
    "colab": {
     "base_uri": "https://localhost:8080/"
    },
    "id": "gNn_2WqLH8WR",
    "outputId": "c0f5decd-9347-489b-d9fb-2003db6ab7e8"
   },
   "outputs": [
    {
     "data": {
      "text/plain": [
       "1776.0"
      ]
     },
     "execution_count": 112,
     "metadata": {},
     "output_type": "execute_result"
    }
   ],
   "source": [
    "8880/5"
   ]
  },
  {
   "cell_type": "code",
   "execution_count": null,
   "metadata": {
    "colab": {
     "base_uri": "https://localhost:8080/"
    },
    "id": "beuWZpZ2H_Ag",
    "outputId": "8d5dbd7d-e1cb-463f-e5ac-89786044478f"
   },
   "outputs": [
    {
     "data": {
      "text/plain": [
       "1776.0"
      ]
     },
     "execution_count": 113,
     "metadata": {},
     "output_type": "execute_result"
    }
   ],
   "source": [
    "5328/3"
   ]
  },
  {
   "cell_type": "markdown",
   "metadata": {
    "id": "WqEYnNPnIBh0"
   },
   "source": [
    "For the first two years, they did not record Unemployment demand"
   ]
  },
  {
   "cell_type": "code",
   "execution_count": null,
   "metadata": {
    "colab": {
     "base_uri": "https://localhost:8080/"
    },
    "id": "qNWcaUls-8tR",
    "outputId": "1926274c-f192-4f1a-d016-492d7961e03e"
   },
   "outputs": [
    {
     "name": "stdout",
     "output_type": "stream",
     "text": [
      "Neighborhood Name\n",
      "Gender\n"
     ]
    }
   ],
   "source": [
    "for i in df[['Neighborhood Name','Gender']]:\n",
    "  print(i)"
   ]
  },
  {
   "cell_type": "code",
   "execution_count": null,
   "metadata": {
    "id": "OBOcHK8e7B7I"
   },
   "outputs": [],
   "source": [
    "df_1=df.groupby(['Year'])"
   ]
  },
  {
   "cell_type": "code",
   "execution_count": null,
   "metadata": {
    "colab": {
     "base_uri": "https://localhost:8080/",
     "height": 1000
    },
    "id": "MtuzAvnD7HbG",
    "outputId": "fd104880-66a0-4757-e6db-70e81e1b5391"
   },
   "outputs": [],
   "source": [
    "df_1.head()"
   ]
  },
  {
   "cell_type": "code",
   "execution_count": null,
   "metadata": {
    "colab": {
     "base_uri": "https://localhost:8080/"
    },
    "id": "Srlij3mHQEAC",
    "outputId": "cca8ae1a-5353-4534-f1eb-8c6ee718e3c2"
   },
   "outputs": [],
   "source": [
    "df_1['Gender'].value_counts()"
   ]
  },
  {
   "cell_type": "code",
   "execution_count": null,
   "metadata": {
    "colab": {
     "base_uri": "https://localhost:8080/"
    },
    "id": "Re0idCNQ7AEy",
    "outputId": "c219c8cc-a5d9-429c-f9c6-7f85fec5202a"
   },
   "outputs": [
    {
     "data": {
      "text/plain": [
       "24.0"
      ]
     },
     "execution_count": 13,
     "metadata": {},
     "output_type": "execute_result"
    }
   ],
   "source": [
    "1776/74 #for every man in each neighborhood"
   ]
  },
  {
   "cell_type": "code",
   "execution_count": null,
   "metadata": {
    "colab": {
     "base_uri": "https://localhost:8080/"
    },
    "id": "I1oYXthFEePC",
    "outputId": "5fce11f7-71a7-4e75-c4bc-06933c384319"
   },
   "outputs": [],
   "source": [
    "df.info()"
   ]
  },
  {
   "cell_type": "code",
   "execution_count": null,
   "metadata": {
    "id": "AV7Qz1wiC15j"
   },
   "outputs": [],
   "source": [
    "df_2=df[(df['Year']==2013) & (df['Gender']=='Male')]"
   ]
  },
  {
   "cell_type": "code",
   "execution_count": null,
   "metadata": {
    "id": "jRpbSgdIDP1V"
   },
   "outputs": [],
   "source": [
    "df_2=df_2.groupby(['Month'])"
   ]
  },
  {
   "cell_type": "code",
   "execution_count": null,
   "metadata": {
    "colab": {
     "base_uri": "https://localhost:8080/"
    },
    "id": "Fxi3a0AgDrzJ",
    "outputId": "b352d6dd-9494-461b-a235-c8e19459e23e"
   },
   "outputs": [
    {
     "data": {
      "text/plain": [
       "888"
      ]
     },
     "execution_count": 84,
     "metadata": {},
     "output_type": "execute_result"
    }
   ],
   "source": [
    "12*74"
   ]
  },
  {
   "cell_type": "code",
   "execution_count": null,
   "metadata": {
    "colab": {
     "base_uri": "https://localhost:8080/",
     "height": 615
    },
    "id": "2OXgQlqUHN6H",
    "outputId": "d2f85ab3-a4fe-4818-9127-b28aba201c2b"
   },
   "outputs": [],
   "source": [
    "df_2"
   ]
  },
  {
   "cell_type": "code",
   "execution_count": null,
   "metadata": {
    "id": "YTZJ_tfHDSls"
   },
   "outputs": [],
   "source": [
    "k=df_2[0:74]"
   ]
  },
  {
   "cell_type": "code",
   "execution_count": null,
   "metadata": {
    "colab": {
     "base_uri": "https://localhost:8080/",
     "height": 615
    },
    "id": "k8qkaXZaHV2b",
    "outputId": "7a85a37b-424d-494e-e92b-a2a1eb62c748"
   },
   "outputs": [],
   "source": [
    "k"
   ]
  },
  {
   "cell_type": "code",
   "execution_count": null,
   "metadata": {
    "id": "F-AvOpPJFYtR"
   },
   "outputs": [],
   "source": [
    "k=k[k['Neighborhood Name']=='el Raval']"
   ]
  },
  {
   "cell_type": "code",
   "execution_count": null,
   "metadata": {
    "colab": {
     "base_uri": "https://localhost:8080/",
     "height": 164
    },
    "id": "uDAhoec6GAH8",
    "outputId": "fbecfa02-373a-496f-d39c-3c6758beba54"
   },
   "outputs": [],
   "source": [
    "k.head()"
   ]
  },
  {
   "cell_type": "code",
   "execution_count": null,
   "metadata": {
    "colab": {
     "base_uri": "https://localhost:8080/"
    },
    "id": "vbhAcGlz7vD1",
    "outputId": "c31de127-1327-4c9d-970d-cc84f390c14d"
   },
   "outputs": [],
   "source": [
    "k['Neighborhood Name'].value_counts()"
   ]
  },
  {
   "cell_type": "code",
   "execution_count": null,
   "metadata": {
    "colab": {
     "base_uri": "https://localhost:8080/"
    },
    "id": "D6MgOjSOFBJo",
    "outputId": "957c673c-ece0-4496-b425-1e9cca3479c0"
   },
   "outputs": [
    {
     "data": {
      "text/plain": [
       "3552"
      ]
     },
     "execution_count": 90,
     "metadata": {},
     "output_type": "execute_result"
    }
   ],
   "source": [
    "4*74*12"
   ]
  },
  {
   "cell_type": "markdown",
   "metadata": {
    "id": "KtmDc9b8Go5t"
   },
   "source": [
    "Every year 2015, 2016, 2017, there r two genders, two demand unemployment, 74 neighborhoods, 12 months"
   ]
  },
  {
   "cell_type": "code",
   "execution_count": null,
   "metadata": {
    "id": "7gpStbKha2vI"
   },
   "outputs": [],
   "source": [
    "df2=pd.read_csv('/content/2023_atur_per_sexe.csv')"
   ]
  },
  {
   "cell_type": "code",
   "execution_count": null,
   "metadata": {
    "colab": {
     "base_uri": "https://localhost:8080/",
     "height": 441
    },
    "id": "wfFh0zGra_24",
    "outputId": "53186759-631d-44f6-83e1-a34cb997de8e"
   },
   "outputs": [],
   "source": [
    "df2"
   ]
  },
  {
   "cell_type": "code",
   "execution_count": null,
   "metadata": {
    "id": "eyanHrsibqWf"
   },
   "outputs": [],
   "source": [
    "sex_mapping = {'Homes':'Male',\n",
    "               'Dones':'Female'\n",
    "                    }\n",
    "occupation = {'Atur Registrat':'Registered unemployed',\n",
    "              'Demanda No Aturats':'Unemployment demand'}\n",
    "month = {1:'January', 2:'February', 3:'March', 4:'April', 5:'May', 6:'June', 7:'July', 8:'August', 9:'September', 10:'October', 11:'November', 12:'December'}"
   ]
  },
  {
   "cell_type": "code",
   "execution_count": null,
   "metadata": {
    "id": "nX58VA9lbIJr"
   },
   "outputs": [],
   "source": [
    "df2=df2.assign(Sexe=df2.Sexe.map(sex_mapping))\n",
    "df2=df2.assign(Demanda_ocupacio=df2.Demanda_ocupacio.map(occupation))\n",
    "df2=df2.assign(Mes=df2.Mes.map(month))"
   ]
  },
  {
   "cell_type": "code",
   "execution_count": null,
   "metadata": {
    "colab": {
     "base_uri": "https://localhost:8080/",
     "height": 597
    },
    "id": "QE_DHHvlcVYZ",
    "outputId": "4b951d56-bd98-4ff4-d2c0-26470e4c3cb8"
   },
   "outputs": [],
   "source": [
    "df2"
   ]
  },
  {
   "cell_type": "code",
   "execution_count": null,
   "metadata": {
    "id": "naMVmrPidYwK"
   },
   "outputs": [],
   "source": [
    "df2.rename(columns={\"Any\": \"Year\", \"Mes\": \"Month\", 'Codi_Districte':'District Code', 'Nom_Districte':'District Name', 'Codi_Barri': 'Neighborhood Code',\n",
    "                    'Nom_Barri':'Neighborhood Name', 'Sexe':'Gender', 'Demanda_ocupacio':'Demand_occupation', 'Nombre':'Number'}, inplace=True)"
   ]
  },
  {
   "cell_type": "code",
   "execution_count": null,
   "metadata": {
    "colab": {
     "base_uri": "https://localhost:8080/"
    },
    "id": "HfD-OD9kegDm",
    "outputId": "c6b0cb48-8641-4360-edf9-b817a6f37083"
   },
   "outputs": [],
   "source": [
    "df2.info()"
   ]
  },
  {
   "cell_type": "code",
   "execution_count": null,
   "metadata": {
    "id": "PbklKxkmfHwN"
   },
   "outputs": [],
   "source": [
    "df2.to_csv('/content/2023_unemployment.csv')"
   ]
  }
 ],
 "metadata": {
  "colab": {
   "provenance": []
  },
  "kernelspec": {
   "display_name": "Python 3",
   "name": "python3"
  },
  "language_info": {
   "name": "python"
  }
 },
 "nbformat": 4,
 "nbformat_minor": 0
}
